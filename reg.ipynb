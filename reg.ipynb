{
 "cells": [
  {
   "cell_type": "code",
   "execution_count": 1,
   "metadata": {},
   "outputs": [],
   "source": [
    "import pandas as pd"
   ]
  },
  {
   "cell_type": "code",
   "execution_count": 2,
   "metadata": {},
   "outputs": [],
   "source": [
    "header=['user_id', 'item_id', 'rating']\n",
    "#content_data = pd.read_csv('content.csv', sep=',', names=header)\n",
    "sim_data = pd.read_csv('sim_pre.csv', sep=',', names=header)\n",
    "#svd_data = pd.read_csv('svd_pre.csv', sep=',', names=header)"
   ]
  },
  {
   "cell_type": "code",
   "execution_count": 3,
   "metadata": {},
   "outputs": [],
   "source": [
    "header=['user_id', 'item_id', 'rating', 'timestamp']\n",
    "train_data = pd.read_csv('train.csv', sep=',', names=header)\n",
    "test_data = pd.read_csv('test.csv', sep=',' , names=header)"
   ]
  },
  {
   "cell_type": "code",
   "execution_count": 5,
   "metadata": {},
   "outputs": [],
   "source": [
    "r={} #movie by user\n",
    "content_sim={}\n",
    "sim_pre={}\n",
    "svd_pre={}"
   ]
  },
  {
   "cell_type": "code",
   "execution_count": 6,
   "metadata": {
    "scrolled": true
   },
   "outputs": [
    {
     "data": {
      "text/plain": [
       "'\\nfor line in svd_data.itertuples():        \\n    if line[2] in content_sim:\\n        svd_pre[line[2]].update({line[1]: line[3]})\\n    else:\\n        svd_pre.update({line[2]: {line[1]: line[3]}})\\n'"
      ]
     },
     "execution_count": 6,
     "metadata": {},
     "output_type": "execute_result"
    }
   ],
   "source": [
    "for line in train_data.itertuples():        \n",
    "    if line[2] in r:\n",
    "        r[line[2]].update({line[1]: line[3]})\n",
    "    else:\n",
    "        r.update({line[2]: {line[1]: line[3]}})\n",
    "'''\n",
    "for line in content_data.itertuples():        \n",
    "    if line[2] in content_sim:\n",
    "        content_sim[line[2]].update({line[1]: line[3]})\n",
    "    else:\n",
    "        content_sim.update({line[2]: {line[1]: line[3]}})\n",
    "'''\n",
    "for line in sim_data.itertuples():        \n",
    "    if line[2] in sim_pre:\n",
    "        sim_pre[line[2]].update({line[1]: line[3]})\n",
    "    else:\n",
    "        sim_pre.update({line[2]: {line[1]: line[3]}})\n",
    "'''\n",
    "for line in svd_data.itertuples():        \n",
    "    if line[2] in content_sim:\n",
    "        svd_pre[line[2]].update({line[1]: line[3]})\n",
    "    else:\n",
    "        svd_pre.update({line[2]: {line[1]: line[3]}})\n",
    "'''"
   ]
  },
  {
   "cell_type": "code",
   "execution_count": 8,
   "metadata": {},
   "outputs": [
    {
     "name": "stdout",
     "output_type": "stream",
     "text": [
      "[1 1 1]\n"
     ]
    }
   ],
   "source": [
    "import numpy as n\n",
    "w=np.asarray([1, 1, 1])\n",
    "print(w)"
   ]
  },
  {
   "cell_type": "code",
   "execution_count": null,
   "metadata": {},
   "outputs": [],
   "source": [
    "episilon=0.1\n",
    "step=0.1\n",
    "loop=100\n",
    "for i in range(loop):\n",
    "    error=0\n",
    "    num=0\n",
    "    for movie in r:\n",
    "        if movie not in content_sim or movie not in sim_pre or movie not in svd_pre:\n",
    "            continue\n",
    "        n=len(r[movie])\n",
    "        loss=0\n",
    "        dw=[0, 0, 0]\n",
    "        for user in r[movie]:\n",
    "            x=np.asarray([content_sim[movie][user], sim_pre[movie][user], svd[movie][user]])\n",
    "            dw=dw+(np.dot(w, x)-r[movie][user])*x+w\n",
    "            error=error+(np.dot(w, x)-r[movie][user])**2\n",
    "        error=error+loss\n",
    "        num=num+n\n",
    "        loss=loss/n\n",
    "        dw=dw/n\n",
    "        w=w-step*dw\n",
    "        print('loss:', loss)\n",
    "    error=error/num\n",
    "    print('No.', i, 'trained successfully!', 'The main error is: ', error)\n",
    "    if error<episilon:\n",
    "        break"
   ]
  }
 ],
 "metadata": {
  "kernelspec": {
   "display_name": "Python 3",
   "language": "python",
   "name": "python3"
  },
  "language_info": {
   "codemirror_mode": {
    "name": "ipython",
    "version": 3
   },
   "file_extension": ".py",
   "mimetype": "text/x-python",
   "name": "python",
   "nbconvert_exporter": "python",
   "pygments_lexer": "ipython3",
   "version": "3.7.0"
  }
 },
 "nbformat": 4,
 "nbformat_minor": 2
}
