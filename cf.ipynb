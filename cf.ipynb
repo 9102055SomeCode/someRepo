{
 "cells": [
  {
   "cell_type": "code",
   "execution_count": 9,
   "metadata": {},
   "outputs": [],
   "source": [
    "import pandas as pd\n",
    "import numpy as np\n",
    "from copy import deepcopy"
   ]
  },
  {
   "cell_type": "code",
   "execution_count": 2,
   "metadata": {},
   "outputs": [],
   "source": [
    "header=['user_id', 'item_id', 'rating', 'timestamp']\n",
    "train_data = pd.read_csv('train.csv', sep=',', names=header)\n",
    "test_data = pd.read_csv('test.csv', sep=',' , names=header)"
   ]
  },
  {
   "cell_type": "code",
   "execution_count": 3,
   "metadata": {},
   "outputs": [],
   "source": [
    "w = {} #dict of weight, movie by movie, [less][large]\n",
    "nw= {} #dict of new weight, movie by movie, [less][large]\n",
    "r = {} #dict of rate, movie by user\n",
    "u_r={} #user rate\n",
    "m_r={} #movie rate\n",
    "a_r=[] #all rate\n",
    "\n",
    "similarity={}"
   ]
  },
  {
   "cell_type": "code",
   "execution_count": 28,
   "metadata": {},
   "outputs": [],
   "source": [
    "for line in train_data.itertuples():        \n",
    "    if line[2] in r:\n",
    "        r[line[2]].update({line[1]: line[3]})\n",
    "    else:\n",
    "        r.update({line[2]: {line[1]: line[3]}})\n",
    "    \n",
    "    if line[1] not in u_r:\n",
    "        u_r.update({line[1]: []})\n",
    "    u_r[line[1]].append(line[3])\n",
    "    \n",
    "    if line[2] not in m_r:\n",
    "        m_r.update({line[2]: []})\n",
    "    m_r[line[2]].append(line[3])\n",
    "    \n",
    "    a_r.append(line[3])\n",
    "\n",
    "for key1 in m_r:\n",
    "    if key1 not in w:\n",
    "        w.update({key1: {}})\n",
    "    for key2 in m_r:\n",
    "        if key2>key1:\n",
    "            w[key1].update({key2: 1})"
   ]
  },
  {
   "cell_type": "code",
   "execution_count": 5,
   "metadata": {},
   "outputs": [],
   "source": [
    "a_m_r=sum(a_r)/len(a_r)\n",
    "u_m_r={} #user ave rate\n",
    "m_m_r={} #movie ave rate\n",
    "for user, rates in u_r.items():\n",
    "    u_m_r.update({user: sum(rates)/len(rates)})\n",
    "for movie, rates in m_r.items():\n",
    "    m_m_r.update({movie: sum(rates)/len(rates)})"
   ]
  },
  {
   "cell_type": "code",
   "execution_count": 12,
   "metadata": {},
   "outputs": [],
   "source": [
    "def get_similar(i, x, similarity):\n",
    "    N=[]\n",
    "    return N"
   ]
  },
  {
   "cell_type": "code",
   "execution_count": 32,
   "metadata": {},
   "outputs": [
    {
     "name": "stdout",
     "output_type": "stream",
     "text": [
      "2.378661786403342e+48\n",
      "1.9013977956893137e+24\n",
      "2.6215554559620817e+28\n",
      "2.608038544281208e+63\n",
      "-6.295992478287549e+31\n",
      "8.680603731117285e+35\n"
     ]
    },
    {
     "ename": "KeyboardInterrupt",
     "evalue": "",
     "output_type": "error",
     "traceback": [
      "\u001b[1;31m---------------------------------------------------------------------------\u001b[0m",
      "\u001b[1;31mKeyboardInterrupt\u001b[0m                         Traceback (most recent call last)",
      "\u001b[1;32m<ipython-input-32-8b1f2ada5445>\u001b[0m in \u001b[0;36m<module>\u001b[1;34m\u001b[0m\n\u001b[0;32m      8\u001b[0m     \u001b[1;32mfor\u001b[0m \u001b[0mi\u001b[0m\u001b[1;33m,\u001b[0m \u001b[0mvalue\u001b[0m \u001b[1;32min\u001b[0m \u001b[0mr\u001b[0m\u001b[1;33m.\u001b[0m\u001b[0mitems\u001b[0m\u001b[1;33m(\u001b[0m\u001b[1;33m)\u001b[0m\u001b[1;33m:\u001b[0m\u001b[1;33m\u001b[0m\u001b[0m\n\u001b[0;32m      9\u001b[0m         \u001b[1;32mfor\u001b[0m \u001b[0mx\u001b[0m\u001b[1;33m,\u001b[0m \u001b[0mrix\u001b[0m \u001b[1;32min\u001b[0m \u001b[0mvalue\u001b[0m\u001b[1;33m.\u001b[0m\u001b[0mitems\u001b[0m\u001b[1;33m(\u001b[0m\u001b[1;33m)\u001b[0m\u001b[1;33m:\u001b[0m\u001b[1;33m\u001b[0m\u001b[0m\n\u001b[1;32m---> 10\u001b[1;33m             \u001b[0mN\u001b[0m\u001b[1;33m=\u001b[0m\u001b[0mget_similar\u001b[0m\u001b[1;33m(\u001b[0m\u001b[0mi\u001b[0m\u001b[1;33m,\u001b[0m \u001b[0mx\u001b[0m\u001b[1;33m,\u001b[0m \u001b[0mr\u001b[0m\u001b[1;33m)\u001b[0m\u001b[1;33m\u001b[0m\u001b[0m\n\u001b[0m\u001b[0;32m     11\u001b[0m             \u001b[0mbix\u001b[0m\u001b[1;33m=\u001b[0m\u001b[0ma_m_r\u001b[0m\u001b[1;33m+\u001b[0m\u001b[1;33m(\u001b[0m\u001b[0mu_m_r\u001b[0m\u001b[1;33m[\u001b[0m\u001b[0mx\u001b[0m\u001b[1;33m]\u001b[0m\u001b[1;33m-\u001b[0m\u001b[0ma_m_r\u001b[0m\u001b[1;33m)\u001b[0m\u001b[1;33m+\u001b[0m\u001b[1;33m(\u001b[0m\u001b[0mm_m_r\u001b[0m\u001b[1;33m[\u001b[0m\u001b[0mi\u001b[0m\u001b[1;33m]\u001b[0m\u001b[1;33m-\u001b[0m\u001b[0ma_m_r\u001b[0m\u001b[1;33m)\u001b[0m\u001b[1;33m\u001b[0m\u001b[0m\n\u001b[0;32m     12\u001b[0m             \u001b[0msum_\u001b[0m\u001b[1;33m=\u001b[0m\u001b[0mbix\u001b[0m\u001b[1;33m-\u001b[0m\u001b[0mrix\u001b[0m\u001b[1;33m\u001b[0m\u001b[0m\n",
      "\u001b[1;32m<ipython-input-12-125ed4a4b5f7>\u001b[0m in \u001b[0;36mget_similar\u001b[1;34m(i, x, r)\u001b[0m\n\u001b[0;32m      1\u001b[0m \u001b[1;32mdef\u001b[0m \u001b[0mget_similar\u001b[0m\u001b[1;33m(\u001b[0m\u001b[0mi\u001b[0m\u001b[1;33m,\u001b[0m \u001b[0mx\u001b[0m\u001b[1;33m,\u001b[0m \u001b[0mr\u001b[0m\u001b[1;33m)\u001b[0m\u001b[1;33m:\u001b[0m\u001b[1;33m\u001b[0m\u001b[0m\n\u001b[0;32m      2\u001b[0m     \u001b[0mN\u001b[0m\u001b[1;33m=\u001b[0m\u001b[1;33m[\u001b[0m\u001b[1;33m]\u001b[0m\u001b[1;33m\u001b[0m\u001b[0m\n\u001b[1;32m----> 3\u001b[1;33m     \u001b[1;32mfor\u001b[0m \u001b[0mj\u001b[0m\u001b[1;33m,\u001b[0m \u001b[0mvalue\u001b[0m \u001b[1;32min\u001b[0m \u001b[0mr\u001b[0m\u001b[1;33m.\u001b[0m\u001b[0mitems\u001b[0m\u001b[1;33m(\u001b[0m\u001b[1;33m)\u001b[0m\u001b[1;33m:\u001b[0m\u001b[1;33m\u001b[0m\u001b[0m\n\u001b[0m\u001b[0;32m      4\u001b[0m         \u001b[1;32mif\u001b[0m \u001b[0mi\u001b[0m\u001b[1;33m!=\u001b[0m\u001b[0mj\u001b[0m \u001b[1;32mand\u001b[0m \u001b[0mx\u001b[0m \u001b[1;32min\u001b[0m \u001b[0mvalue\u001b[0m \u001b[1;32mand\u001b[0m \u001b[0mlen\u001b[0m\u001b[1;33m(\u001b[0m\u001b[0mN\u001b[0m\u001b[1;33m)\u001b[0m\u001b[1;33m<\u001b[0m\u001b[1;36m10\u001b[0m\u001b[1;33m:\u001b[0m\u001b[1;33m\u001b[0m\u001b[0m\n\u001b[0;32m      5\u001b[0m             \u001b[0mN\u001b[0m\u001b[1;33m.\u001b[0m\u001b[0mappend\u001b[0m\u001b[1;33m(\u001b[0m\u001b[0mj\u001b[0m\u001b[1;33m)\u001b[0m\u001b[1;33m\u001b[0m\u001b[0m\n",
      "\u001b[1;31mKeyboardInterrupt\u001b[0m: "
     ]
    }
   ],
   "source": [
    "episilon=0.01\n",
    "step=0.1\n",
    "loop=5\n",
    "for l in range(loop):\n",
    "    diff=0\n",
    "    Jw=0\n",
    "    dJw=0\n",
    "    for i, value in r.items():\n",
    "        for x, rix in value.items():\n",
    "            N=get_similar(i, x, similarity)\n",
    "            bix=a_m_r+(u_m_r[x]-a_m_r)+(m_m_r[i]-a_m_r)\n",
    "            sum_=bix-rix\n",
    "            for j in N:\n",
    "                bjx=a_m_r+(u_m_r[x]-a_m_r)+(m_m_r[j]-a_m_r)\n",
    "                sum_=sum_+w[min(i, j)][max(i, j)]*(r[j][x]-bjx)\n",
    "                dJw=dJw+sum_*(r[j][x]-bjx)\n",
    "            Jw=Jw+sum_**2  \n",
    "        for j in N:\n",
    "            w[min(i, j)][max(i, j)]=w[min(i, j)][max(i, j)]-step*dJw\n",
    "            diff=diff+abs(step*dJw)\n",
    "    print(Jw)\n",
    "    print(dJw)\n",
    "    print(diff)\n",
    "    if diff <= episilon:\n",
    "        break"
   ]
  },
  {
   "cell_type": "code",
   "execution_count": null,
   "metadata": {},
   "outputs": [],
   "source": []
  }
 ],
 "metadata": {
  "kernelspec": {
   "display_name": "Python 3",
   "language": "python",
   "name": "python3"
  },
  "language_info": {
   "codemirror_mode": {
    "name": "ipython",
    "version": 3
   },
   "file_extension": ".py",
   "mimetype": "text/x-python",
   "name": "python",
   "nbconvert_exporter": "python",
   "pygments_lexer": "ipython3",
   "version": "3.7.0"
  }
 },
 "nbformat": 4,
 "nbformat_minor": 2
}
